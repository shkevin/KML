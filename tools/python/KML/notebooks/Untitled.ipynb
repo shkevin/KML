{
 "cells": [
  {
   "cell_type": "code",
   "execution_count": 43,
   "id": "df1b03a3",
   "metadata": {},
   "outputs": [],
   "source": [
    "from KML.statistics.StreamingP2Quantile import PyStreamingP2Quantile\n",
    "import numpy as np"
   ]
  },
  {
   "cell_type": "code",
   "execution_count": 44,
   "id": "2ac8b19c",
   "metadata": {},
   "outputs": [],
   "source": [
    "s = PyStreamingP2Quantile()"
   ]
  },
  {
   "cell_type": "code",
   "execution_count": 45,
   "id": "f51e2fb2",
   "metadata": {},
   "outputs": [],
   "source": [
    "d = np.random.uniform(0, 1000, 10)"
   ]
  },
  {
   "cell_type": "code",
   "execution_count": 46,
   "id": "5830e47d",
   "metadata": {},
   "outputs": [
    {
     "data": {
      "text/plain": [
       "array([ 35.49904066,  44.49219549, 983.96153947, 804.84650835,\n",
       "       858.45136521, 553.82933008, 867.7833919 , 625.66576601,\n",
       "        16.36813385, 330.4632706 ])"
      ]
     },
     "execution_count": 46,
     "metadata": {},
     "output_type": "execute_result"
    }
   ],
   "source": [
    "d"
   ]
  },
  {
   "cell_type": "code",
   "execution_count": 47,
   "id": "a798bb47",
   "metadata": {},
   "outputs": [
    {
     "data": {
      "text/plain": [
       "512.1360541622522"
      ]
     },
     "execution_count": 47,
     "metadata": {},
     "output_type": "execute_result"
    }
   ],
   "source": [
    "np.mean(d)"
   ]
  },
  {
   "cell_type": "code",
   "execution_count": 48,
   "id": "c199b886",
   "metadata": {},
   "outputs": [
    {
     "name": "stdout",
     "output_type": "stream",
     "text": [
      "<class 'numpy.ndarray'>\n"
     ]
    }
   ],
   "source": [
    "s.update(d)"
   ]
  },
  {
   "cell_type": "code",
   "execution_count": 49,
   "id": "7404cff9",
   "metadata": {},
   "outputs": [
    {
     "data": {
      "text/plain": [
       "inf"
      ]
     },
     "execution_count": 49,
     "metadata": {},
     "output_type": "execute_result"
    }
   ],
   "source": [
    "s.evaluate()"
   ]
  },
  {
   "cell_type": "code",
   "execution_count": 50,
   "id": "a3b51c15",
   "metadata": {},
   "outputs": [
    {
     "data": {
      "text/plain": [
       "589.7475480465753"
      ]
     },
     "execution_count": 50,
     "metadata": {},
     "output_type": "execute_result"
    }
   ],
   "source": [
    "np.quantile(d, 0.5)"
   ]
  },
  {
   "cell_type": "code",
   "execution_count": null,
   "id": "f47cfe1c",
   "metadata": {},
   "outputs": [],
   "source": []
  }
 ],
 "metadata": {
  "kernelspec": {
   "display_name": "Python 3 (ipykernel)",
   "language": "python",
   "name": "python3"
  },
  "language_info": {
   "codemirror_mode": {
    "name": "ipython",
    "version": 3
   },
   "file_extension": ".py",
   "mimetype": "text/x-python",
   "name": "python",
   "nbconvert_exporter": "python",
   "pygments_lexer": "ipython3",
   "version": "3.8.13"
  }
 },
 "nbformat": 4,
 "nbformat_minor": 5
}

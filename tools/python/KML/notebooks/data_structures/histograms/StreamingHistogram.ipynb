{
 "cells": [
  {
   "cell_type": "markdown",
   "id": "f07b4ac5",
   "metadata": {},
   "source": [
    "# Streaming Histogram\n",
    "The streaming histogram is a data structure that takes in a single data point and updates the internal histogram\n",
    "structure. This histogram is a variant of the Ben-Haim, Tom-Tov histogram."
   ]
  },
  {
   "cell_type": "code",
   "execution_count": 1,
   "id": "bf6db9ff",
   "metadata": {},
   "outputs": [],
   "source": [
    "from KML.data_structures.histograms.StreamingHistogram import PyStreamingHistogram as pyhist\n",
    "import numpy as np\n",
    "import matplotlib.pyplot as plt\n",
    "import matplotlib.animation as animation\n",
    "\n",
    "plt.style.use('tableau-colorblind10')"
   ]
  },
  {
   "cell_type": "markdown",
   "id": "c902aee8",
   "metadata": {},
   "source": [
    "## Define Histogram Parameters"
   ]
  },
  {
   "cell_type": "code",
   "execution_count": 2,
   "id": "72299855",
   "metadata": {},
   "outputs": [],
   "source": [
    "num_bins = 100\n",
    "window_size = 100"
   ]
  },
  {
   "cell_type": "markdown",
   "id": "873bf109",
   "metadata": {},
   "source": [
    "## Define data"
   ]
  },
  {
   "cell_type": "code",
   "execution_count": 3,
   "id": "5b82f25a",
   "metadata": {},
   "outputs": [],
   "source": [
    "np.random.seed(42)\n",
    "data = np.random.randn(1000).flatten()"
   ]
  },
  {
   "cell_type": "markdown",
   "id": "7766cffb",
   "metadata": {},
   "source": [
    "## Show distribution in batch setting"
   ]
  },
  {
   "cell_type": "code",
   "execution_count": 77,
   "id": "43f218f0",
   "metadata": {},
   "outputs": [
    {
     "data": {
      "image/png": "[encoded data removed]",
      "text/plain": [
       "<Figure size 432x288 with 1 Axes>"
      ]
     },
     "metadata": {
      "needs_background": "light"
     },
     "output_type": "display_data"
    }
   ],
   "source": [
    "fig, ax = plt.subplots(1, tight_layout=True)\n",
    "_ = ax.hist(\n",
    "    data, bins=num_bins, \n",
    "    align=\"mid\",\n",
    "    ec=\"black\",\n",
    "    alpha=0.75,\n",
    "    linewidth=1\n",
    ")"
   ]
  },
  {
   "cell_type": "markdown",
   "id": "8d20a5bc",
   "metadata": {},
   "source": [
    "## Show distribution with batch in streaming histogram"
   ]
  },
  {
   "cell_type": "code",
   "execution_count": 80,
   "id": "6356d5f7",
   "metadata": {},
   "outputs": [
    {
     "data": {
      "image/png": "[encoded data removed]",
      "text/plain": [
       "<Figure size 720x720 with 1 Axes>"
      ]
     },
     "metadata": {
      "needs_background": "light"
     },
     "output_type": "display_data"
    }
   ],
   "source": [
    "hist = pyhist(num_bins, 1000)\n",
    "\n",
    "# Batch update\n",
    "hist.update(data)\n",
    "\n",
    "report = hist.report()\n",
    "edges = np.array(list(report.keys()))\n",
    "counts = np.array(list(report.values()))\n",
    "\n",
    "fig, ax = plt.subplots(figsize=(10, 10))\n",
    "bin_edges = np.array([e[0] for e in edges])\n",
    "_ = ax.bar(\n",
    "    x=bin_edges[:-1],\n",
    "    height=counts[:-1],\n",
    "    width=np.diff(bin_edges),\n",
    "    align=\"edge\",\n",
    "    ec=\"black\",\n",
    "    alpha=0.75,\n",
    "    linewidth=1\n",
    ")"
   ]
  }
 ],
 "metadata": {
  "kernelspec": {
   "display_name": "Python 3 (ipykernel)",
   "language": "python",
   "name": "python3"
  },
  "language_info": {
   "codemirror_mode": {
    "name": "ipython",
    "version": 3
   },
   "file_extension": ".py",
   "mimetype": "text/x-python",
   "name": "python",
   "nbconvert_exporter": "python",
   "pygments_lexer": "ipython3",
   "version": "3.8.13"
  }
 },
 "nbformat": 4,
 "nbformat_minor": 5
}

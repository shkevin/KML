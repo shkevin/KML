{
 "cells": [
  {
   "cell_type": "markdown",
   "id": "f07b4ac5",
   "metadata": {},
   "source": [
    "# Streaming Histogram\n",
    "The streaming histogram is a data structure that takes in a single data point and updates the internal histogram\n",
    "structure. This histogram is a variant of the Ben-Haim, Tom-Tov histogram."
   ]
  },
  {
   "cell_type": "code",
   "execution_count": 4,
   "id": "bf6db9ff",
   "metadata": {},
   "outputs": [],
   "source": [
    "from KML.data_structures.histograms.StreamingHistogram import PyStreamingHistogram as pyhist\n",
    "import numpy as np\n",
    "import matplotlib.pyplot as plt\n",
    "import matplotlib.animation as animation"
   ]
  },
  {
   "cell_type": "markdown",
   "id": "c902aee8",
   "metadata": {},
   "source": [
    "## Define Histogram"
   ]
  },
  {
   "cell_type": "code",
   "execution_count": 7,
   "id": "72299855",
   "metadata": {},
   "outputs": [],
   "source": [
    "num_bins = 100\n",
    "window_size = 50\n",
    "hist = pyhist(num_bins, window_size)"
   ]
  },
  {
   "cell_type": "markdown",
   "id": "873bf109",
   "metadata": {},
   "source": [
    "## Define data"
   ]
  },
  {
   "cell_type": "code",
   "execution_count": 22,
   "id": "1c00ef23",
   "metadata": {},
   "outputs": [],
   "source": [
    "np.random.seed(42)\n",
    "data = np.random.randn(1000)"
   ]
  },
  {
   "cell_type": "markdown",
   "id": "2ab6e2ce",
   "metadata": {},
   "source": [
    "## Show distribution in batch setting"
   ]
  },
  {
   "cell_type": "code",
   "execution_count": 30,
   "id": "5c50e75d",
   "metadata": {},
   "outputs": [
    {
     "data": {
      "image/png": "[encoded data removed]",
      "text/plain": [
       "<Figure size 432x288 with 1 Axes>"
      ]
     },
     "metadata": {
      "needs_background": "light"
     },
     "output_type": "display_data"
    }
   ],
   "source": [
    "fig, ax = plt.subplots(1, tight_layout=True)\n",
    "_ = ax.hist(data, bins=num_bins)"
   ]
  },
  {
   "cell_type": "markdown",
   "id": "5f565876",
   "metadata": {},
   "source": [
    "## Show distribution with batch in streaming histogram"
   ]
  },
  {
   "cell_type": "code",
   "execution_count": 44,
   "id": "32e539a9",
   "metadata": {},
   "outputs": [
    {
     "data": {
      "image/png": "[encoded data removed]",
      "text/plain": [
       "<Figure size 432x288 with 1 Axes>"
      ]
     },
     "metadata": {
      "needs_background": "light"
     },
     "output_type": "display_data"
    }
   ],
   "source": [
    "# hist = pyhist(num_bins, data.shape[0])\n",
    "# hist.update(data)\n",
    "# hist.bin_counts()\n",
    "# hist.pdf(True, False)\n",
    "from river.misc import histogram\n",
    "hist = histogram.Histogram(max_bins=60)\n",
    "\n",
    "for x in data:\n",
    "    hist = hist.update(x)\n",
    "    \n",
    "ax = plt.bar(\n",
    "    x=[(b.left + b.right) / 2 for b in hist],\n",
    "    height=[b.count for b in hist],\n",
    "    width=[(b.right - b.left) / 2 for b in hist]\n",
    ")"
   ]
  },
  {
   "cell_type": "code",
   "execution_count": 46,
   "id": "4af5cdc6",
   "metadata": {},
   "outputs": [
    {
     "data": {
      "text/plain": [
       "<bound method UserList.count of [-3.24127, -3.24127]: 1\n",
       "[-2.69689, -2.69689]: 1\n",
       "[-2.65097, -2.61975]: 2\n",
       "[-2.47164, -2.47164]: 1\n",
       "[-2.42388, -2.42388]: 1\n",
       "[-2.30192, -2.30192]: 1\n",
       "[-2.21114, -2.19881]: 2\n",
       "[-2.12390, -2.12390]: 1\n",
       "[-2.08193, -2.07339]: 2\n",
       "[-2.06744, -2.02514]: 5\n",
       "[-1.98757, -1.75874]: 13\n",
       "[-1.72492, -1.65486]: 10\n",
       "[-1.62754, -1.55663]: 8\n",
       "[-1.55066, -1.47859]: 11\n",
       "[-1.47852, -1.43014]: 7\n",
       "[-1.42475, -1.33534]: 19\n",
       "[-1.32819, -1.27675]: 10\n",
       "[-1.26088, -1.18326]: 18\n",
       "[-1.16868, -1.08106]: 15\n",
       "[-1.07774, -1.02123]: 12\n",
       "[-1.01283, -0.92217]: 26\n",
       "[-0.91942, -0.81581]: 32\n",
       "[-0.80849, -0.72574]: 26\n",
       "[-0.71984, -0.56247]: 57\n",
       "[-0.56229, -0.48423]: 38\n",
       "[-0.47917, -0.35151]: 45\n",
       "[-0.34271, -0.23682]: 39\n",
       "[-0.23459, -0.14238]: 32\n",
       "[-0.13826, -0.08215]: 17\n",
       "[-0.07710, -0.01642]: 34\n",
       "[-0.01350, 0.05572]: 27\n",
       "[0.05821, 0.19655]: 59\n",
       "[0.19686, 0.32272]: 56\n",
       "[0.32408, 0.49332]: 64\n",
       "[0.49671, 0.58393]: 29\n",
       "[0.58686, 0.72577]: 57\n",
       "[0.73847, 0.79166]: 19\n",
       "[0.81253, 0.89960]: 29\n",
       "[0.91540, 1.02916]: 23\n",
       "[1.03100, 1.12657]: 25\n",
       "[1.13557, 1.25576]: 20\n",
       "[1.26691, 1.34542]: 9\n",
       "[1.35387, 1.44012]: 10\n",
       "[1.44127, 1.50399]: 15\n",
       "[1.52303, 1.59319]: 16\n",
       "[1.62862, 1.69646]: 8\n",
       "[1.75227, 1.80094]: 9\n",
       "[1.81245, 1.84896]: 5\n",
       "[1.85228, 1.90942]: 9\n",
       "[1.96473, 2.01020]: 2\n",
       "[2.06075, 2.09239]: 3\n",
       "[2.12216, 2.19046]: 7\n",
       "[2.27069, 2.31466]: 3\n",
       "[2.44575, 2.46324]: 3\n",
       "[2.52693, 2.52693]: 1\n",
       "[2.56008, 2.57336]: 2\n",
       "[2.63238, 2.63238]: 1\n",
       "[2.72017, 2.72017]: 1\n",
       "[3.07888, 3.07888]: 1\n",
       "[3.85273, 3.85273]: 1>"
      ]
     },
     "execution_count": 46,
     "metadata": {},
     "output_type": "execute_result"
    }
   ],
   "source": [
    "hist.count"
   ]
  },
  {
   "cell_type": "markdown",
   "id": "1939b563",
   "metadata": {},
   "source": [
    "# Show Animation of Histogram Working"
   ]
  },
  {
   "cell_type": "code",
   "execution_count": 5,
   "id": "73b93547",
   "metadata": {},
   "outputs": [
    {
     "data": {
      "image/png": "[encoded data removed]",
      "text/plain": [
       "<Figure size 432x288 with 1 Axes>"
      ]
     },
     "metadata": {
      "needs_background": "light"
     },
     "output_type": "display_data"
    }
   ],
   "source": [
    "n = 100\n",
    "number_of_frames = 10\n",
    "data = np.random.rand(n, number_of_frames)\n",
    "\n",
    "def update_hist(num, data):\n",
    "    plt.cla()\n",
    "    plt.hist(data[num])\n",
    "\n",
    "fig = plt.figure()\n",
    "hist = plt.hist(data[0])\n",
    "\n",
    "animation = animation.FuncAnimation(fig, update_hist, number_of_frames, fargs=(data, ) )\n",
    "plt.show()"
   ]
  }
 ],
 "metadata": {
  "kernelspec": {
   "display_name": "Python 3 (ipykernel)",
   "language": "python",
   "name": "python3"
  },
  "language_info": {
   "codemirror_mode": {
    "name": "ipython",
    "version": 3
   },
   "file_extension": ".py",
   "mimetype": "text/x-python",
   "name": "python",
   "nbconvert_exporter": "python",
   "pygments_lexer": "ipython3",
   "version": "3.8.13"
  }
 },
 "nbformat": 4,
 "nbformat_minor": 5
}

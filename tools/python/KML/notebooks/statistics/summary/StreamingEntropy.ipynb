{
 "cells": [
  {
   "cell_type": "markdown",
   "id": "9a42215f",
   "metadata": {},
   "source": [
    "# Streaming Entropy\n",
    "The streaming entropy code was designed to approximate the entropy of a data stream. This works by approximating the\n",
    "distribution using histograms, and then applying sovdat entropy updates.\n",
    "\n",
    "Reference:\n",
    "    https://arxiv.org/pdf/1403.6348.pdf"
   ]
  },
  {
   "cell_type": "code",
   "execution_count": 1,
   "id": "5e9a484d",
   "metadata": {},
   "outputs": [],
   "source": [
    "import numpy as np\n",
    "import matplotlib.pyplot as plt\n",
    "from scipy.stats import entropy\n",
    "\n",
    "from KML.statistics.summary.StreamingEntropy import PyStreamingEntropy as pyentropy"
   ]
  },
  {
   "cell_type": "markdown",
   "id": "91f2439c",
   "metadata": {},
   "source": [
    "## Define parameters"
   ]
  },
  {
   "cell_type": "code",
   "execution_count": 2,
   "id": "f876d2b6",
   "metadata": {},
   "outputs": [],
   "source": [
    "num_bins = 100\n",
    "window_size = 1000"
   ]
  },
  {
   "cell_type": "markdown",
   "id": "1aeed325",
   "metadata": {},
   "source": [
    "## Define data"
   ]
  },
  {
   "cell_type": "code",
   "execution_count": 3,
   "id": "54d511ea",
   "metadata": {},
   "outputs": [],
   "source": [
    "np.random.seed(42)\n",
    "uniform_data = np.random.uniform(0, 1, 1000)\n",
    "constant_data = np.ones(1000)"
   ]
  },
  {
   "cell_type": "markdown",
   "id": "afe79820",
   "metadata": {},
   "source": [
    "## Compare approximations across different datasets\n",
    "\n",
    "By comparing the approximation on datasets where entropy should clearly be defined, we can get an understanding\n",
    "of how close the approximation is."
   ]
  },
  {
   "cell_type": "markdown",
   "id": "6b49e7c7",
   "metadata": {},
   "source": [
    "### Constant data\n",
    "\n",
    "Data that contains only a single value. The expected entropy of this dataset should be zero."
   ]
  },
  {
   "cell_type": "markdown",
   "id": "9d97dc18",
   "metadata": {},
   "source": [
    "#### Visualize"
   ]
  },
  {
   "cell_type": "code",
   "execution_count": 4,
   "id": "c23a7638",
   "metadata": {},
   "outputs": [
    {
     "data": {
      "image/png": "[encoded data removed]",
      "text/plain": [
       "<Figure size 432x288 with 1 Axes>"
      ]
     },
     "metadata": {
      "needs_background": "light"
     },
     "output_type": "display_data"
    }
   ],
   "source": [
    "fig, ax = plt.subplots(1, tight_layout=True)\n",
    "_ = ax.hist(\n",
    "    constant_data, bins=num_bins, align=\"mid\", ec=\"black\", alpha=0.75, linewidth=1\n",
    ")"
   ]
  },
  {
   "cell_type": "markdown",
   "id": "e9f2d08f",
   "metadata": {},
   "source": [
    "#### Calculate"
   ]
  },
  {
   "cell_type": "code",
   "execution_count": 5,
   "id": "2ffde172",
   "metadata": {},
   "outputs": [],
   "source": [
    "e = pyentropy(window_size, num_bins)\n",
    "e.update(constant_data)"
   ]
  },
  {
   "cell_type": "code",
   "execution_count": 6,
   "id": "f03ae4ce",
   "metadata": {},
   "outputs": [
    {
     "data": {
      "text/plain": [
       "0.0"
      ]
     },
     "execution_count": 6,
     "metadata": {},
     "output_type": "execute_result"
    }
   ],
   "source": [
    "e.evaluate()"
   ]
  },
  {
   "cell_type": "markdown",
   "id": "99d50c10",
   "metadata": {},
   "source": [
    "### Uniform data\n",
    "This data set is drawn from a uniform distribution. The expected entropy should be close to the maximum entropy for \n",
    "a dataset. In this instance, the expected entropy should be np.log2(1000)."
   ]
  },
  {
   "cell_type": "markdown",
   "id": "e0cf3855",
   "metadata": {},
   "source": [
    "#### Visualize"
   ]
  },
  {
   "cell_type": "code",
   "execution_count": 7,
   "id": "4744d8a2",
   "metadata": {},
   "outputs": [
    {
     "data": {
      "image/png": "[encoded data removed]",
      "text/plain": [
       "<Figure size 432x288 with 1 Axes>"
      ]
     },
     "metadata": {
      "needs_background": "light"
     },
     "output_type": "display_data"
    }
   ],
   "source": [
    "fig, ax = plt.subplots(1, tight_layout=True)\n",
    "_ = ax.hist(\n",
    "    uniform_data, bins=num_bins, align=\"mid\", ec=\"black\", alpha=0.75, linewidth=1\n",
    ")"
   ]
  },
  {
   "cell_type": "markdown",
   "id": "1092a031",
   "metadata": {},
   "source": [
    "#### Calculate"
   ]
  },
  {
   "cell_type": "code",
   "execution_count": 8,
   "id": "9a721254",
   "metadata": {},
   "outputs": [],
   "source": [
    "e = pyentropy(window_size, num_bins)\n",
    "e.update(uniform_data)"
   ]
  },
  {
   "cell_type": "code",
   "execution_count": 9,
   "id": "69d76066",
   "metadata": {},
   "outputs": [
    {
     "data": {
      "text/plain": [
       "7.330546350478285"
      ]
     },
     "execution_count": 9,
     "metadata": {},
     "output_type": "execute_result"
    }
   ],
   "source": [
    "e.evaluate()"
   ]
  },
  {
   "cell_type": "code",
   "execution_count": 10,
   "id": "7422f97a",
   "metadata": {},
   "outputs": [
    {
     "data": {
      "text/plain": [
       "9.965784284662087"
      ]
     },
     "execution_count": 10,
     "metadata": {},
     "output_type": "execute_result"
    }
   ],
   "source": [
    "np.log2(1000)"
   ]
  },
  {
   "cell_type": "markdown",
   "id": "9ad8949a",
   "metadata": {},
   "source": [
    "#### Why is there a big difference between the expected and approximated?\n",
    "The difference in calculated value is due to the number of bins used to approximate the entropy. If the num_bins parameter \n",
    "was set to 1000, the error would be much smaller."
   ]
  }
 ],
 "metadata": {
  "kernelspec": {
   "display_name": "Python 3 (ipykernel)",
   "language": "python",
   "name": "python3"
  },
  "language_info": {
   "codemirror_mode": {
    "name": "ipython",
    "version": 3
   },
   "file_extension": ".py",
   "mimetype": "text/x-python",
   "name": "python",
   "nbconvert_exporter": "python",
   "pygments_lexer": "ipython3",
   "version": "3.8.13"
  }
 },
 "nbformat": 4,
 "nbformat_minor": 5
}

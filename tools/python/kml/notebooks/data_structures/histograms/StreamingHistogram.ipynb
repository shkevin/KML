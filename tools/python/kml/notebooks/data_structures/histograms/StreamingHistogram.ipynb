{
 "cells": [
  {
   "cell_type": "markdown",
   "metadata": {},
   "source": [
    "# Streaming Histogram\n",
    "The streaming histogram is a data structure that takes in a single data point and updates the internal histogram\n",
    "structure. This histogram is a variant of the Ben-Haim, Tom-Tov histogram."
   ]
  },
  {
   "cell_type": "code",
   "execution_count": 1,
   "metadata": {},
   "outputs": [
    {
     "ename": "ModuleNotFoundError",
     "evalue": "No module named 'kml'",
     "output_type": "error",
     "traceback": [
      "\u001b[0;31m---------------------------------------------------------------------------\u001b[0m",
      "\u001b[0;31mModuleNotFoundError\u001b[0m                       Traceback (most recent call last)",
      "\u001b[0;32m<ipython-input-1-637612dd3f93>\u001b[0m in \u001b[0;36m<module>\u001b[0;34m\u001b[0m\n\u001b[0;32m----> 1\u001b[0;31m from kml.data_structures.histograms.StreamingHistogram import (\n\u001b[0m\u001b[1;32m      2\u001b[0m     \u001b[0mPyStreamingHistogram\u001b[0m \u001b[0;32mas\u001b[0m \u001b[0mpyhist\u001b[0m\u001b[0;34m,\u001b[0m\u001b[0;34m\u001b[0m\u001b[0;34m\u001b[0m\u001b[0m\n\u001b[1;32m      3\u001b[0m )\n\u001b[1;32m      4\u001b[0m \u001b[0;32mimport\u001b[0m \u001b[0mnumpy\u001b[0m \u001b[0;32mas\u001b[0m \u001b[0mnp\u001b[0m\u001b[0;34m\u001b[0m\u001b[0;34m\u001b[0m\u001b[0m\n\u001b[1;32m      5\u001b[0m \u001b[0;32mimport\u001b[0m \u001b[0mmatplotlib\u001b[0m\u001b[0;34m.\u001b[0m\u001b[0mpyplot\u001b[0m \u001b[0;32mas\u001b[0m \u001b[0mplt\u001b[0m\u001b[0;34m\u001b[0m\u001b[0;34m\u001b[0m\u001b[0m\n",
      "\u001b[0;31mModuleNotFoundError\u001b[0m: No module named 'kml'"
     ]
    }
   ],
   "source": [
    "from kml.data_structures.histograms.StreamingHistogram import (\n",
    "    PyStreamingHistogram as pyhist,\n",
    ")\n",
    "import numpy as np\n",
    "import matplotlib.pyplot as plt\n",
    "\n",
    "plt.style.use(\"tableau-colorblind10\")"
   ]
  },
  {
   "cell_type": "markdown",
   "metadata": {},
   "source": [
    "## Define Histogram Parameters"
   ]
  },
  {
   "cell_type": "code",
   "execution_count": null,
   "metadata": {},
   "outputs": [],
   "source": [
    "num_bins = 100\n",
    "window_size = 100"
   ]
  },
  {
   "cell_type": "markdown",
   "metadata": {},
   "source": [
    "## Define data"
   ]
  },
  {
   "cell_type": "code",
   "execution_count": null,
   "metadata": {},
   "outputs": [],
   "source": [
    "np.random.seed(42)\n",
    "data = np.random.randn(1000).flatten()"
   ]
  },
  {
   "cell_type": "markdown",
   "metadata": {},
   "source": [
    "## Show distribution in batch setting"
   ]
  },
  {
   "cell_type": "code",
   "execution_count": null,
   "metadata": {},
   "outputs": [],
   "source": [
    "fig, ax = plt.subplots(1, tight_layout=True)\n",
    "_ = ax.hist(data, bins=num_bins, align=\"mid\", ec=\"black\", alpha=0.75, linewidth=1)"
   ]
  },
  {
   "cell_type": "markdown",
   "metadata": {},
   "source": [
    "## Show distribution with batch in streaming histogram"
   ]
  },
  {
   "cell_type": "code",
   "execution_count": null,
   "metadata": {},
   "outputs": [],
   "source": [
    "hist = pyhist(num_bins, 1000)\n",
    "\n",
    "# Batch update\n",
    "hist.update(data)\n",
    "\n",
    "report = hist.report()\n",
    "edges = np.array(list(report.keys()))\n",
    "counts = np.array(list(report.values()))\n",
    "\n",
    "fig, ax = plt.subplots(figsize=(10, 10))\n",
    "bin_edges = np.array([e[0] for e in edges])\n",
    "_ = ax.bar(\n",
    "    x=bin_edges[:-1],\n",
    "    height=counts[:-1],\n",
    "    width=np.diff(bin_edges),\n",
    "    align=\"edge\",\n",
    "    ec=\"black\",\n",
    "    alpha=0.75,\n",
    "    linewidth=1,\n",
    ")"
   ]
  },
  {
   "cell_type": "markdown",
   "metadata": {},
   "source": [
    "# Additional Functions"
   ]
  },
  {
   "cell_type": "markdown",
   "metadata": {},
   "source": [
    "## Display quantile calculation"
   ]
  },
  {
   "cell_type": "markdown",
   "metadata": {},
   "source": [
    "### Numpy Quantile"
   ]
  },
  {
   "cell_type": "code",
   "execution_count": null,
   "metadata": {},
   "outputs": [],
   "source": [
    "np.quantile(data, 0.9)"
   ]
  },
  {
   "cell_type": "markdown",
   "metadata": {},
   "source": [
    "### Streaming Histogram Quantile\n",
    "The more bins, the better the quantile calculation."
   ]
  },
  {
   "cell_type": "code",
   "execution_count": null,
   "metadata": {},
   "outputs": [],
   "source": [
    "hist = pyhist(num_bins, 1000)\n",
    "hist.update(data)\n",
    "\n",
    "hist.quantile(0.9)"
   ]
  },
  {
   "cell_type": "markdown",
   "metadata": {},
   "source": [
    "## Showcase Approximating Density\n",
    "The density calculation from the histogram isn't bad. However, it does appear that the lower number of bins used the better\n",
    "the approximation."
   ]
  },
  {
   "cell_type": "code",
   "execution_count": null,
   "metadata": {},
   "outputs": [],
   "source": [
    "import seaborn as sns\n",
    "\n",
    "fig, ax = plt.subplots(figsize=(10, 10))\n",
    "sns.kdeplot(np.array(data), bw_method=0.5)\n",
    "\n",
    "hist = pyhist(20, 1000)\n",
    "\n",
    "# Batch update\n",
    "hist.update(data)\n",
    "\n",
    "report = hist.report()\n",
    "edges = np.array(list(report.keys()))\n",
    "counts = np.array(list(report.values()))\n",
    "bin_edges = np.array([e[0] for e in edges])\n",
    "\n",
    "plt.plot(bin_edges, hist.pdf(True, True))\n",
    "plt.legend([\"Seaborn Density\", \"Histogram Density\"])"
   ]
  },
  {
   "cell_type": "raw",
   "metadata": {},
   "source": [
    "from IPython.display import HTML\n",
    "from matplotlib import rc\n",
    "import matplotlib.animation as animation\n",
    "\n",
    "%matplotlib inline\n",
    "rc('animation', html='html5')"
   ]
  },
  {
   "cell_type": "raw",
   "metadata": {},
   "source": [
    "window_size = 100\n",
    "#num_bins = int(np.sqrt(len(data))) # 31 if data.shape[0] == 1000\n",
    "num_bins = 100\n",
    "\n",
    "hist = pyhist(num_bins, window_size)\n",
    "\n",
    "fig, ax = plt.subplots()\n",
    "pos = np.array(range(num_bins))\n",
    "counts = np.zeros(num_bins)\n",
    "width = 1\n",
    "#rects = plt.bar(pos, counts, width, color=\"b\")\n",
    "\n",
    "rects = ax.bar(\n",
    "    pos,\n",
    "    counts,\n",
    "    width=1,\n",
    "    align=\"edge\",\n",
    "    ec=\"black\",\n",
    "    alpha=0.75,\n",
    "    linewidth=1\n",
    ")\n",
    "\n",
    "plt.xlim([-4, 4])\n",
    "plt.ylim([0, 10])\n",
    "\n",
    "def animate(arg, rects):\n",
    "    frameno, freqs, widths = arg\n",
    "    for rect, f, w in zip(rects, freqs, widths):\n",
    "        rect.set_height(f)\n",
    "        rect.set_width(w)\n",
    "        \n",
    "def step():\n",
    "    for i, x in enumerate(data):\n",
    "        hist.update(x)\n",
    "        report = hist.report()\n",
    "        counts = np.array(list(report.values()))\n",
    "        edges = np.array(list(report.keys()))\n",
    "        widths = np.array([e[0] for e in edges])\n",
    "\n",
    "        yield i, counts, widths\n",
    "        \n",
    "ani = animation.FuncAnimation(fig, animate, step, fargs=(rects,))"
   ]
  },
  {
   "cell_type": "raw",
   "metadata": {},
   "source": [
    "ani"
   ]
  }
 ],
 "metadata": {
  "kernelspec": {
   "display_name": "Python 3",
   "language": "python",
   "name": "python3"
  },
  "language_info": {
   "codemirror_mode": {
    "name": "ipython",
    "version": 3
   },
   "file_extension": ".py",
   "mimetype": "text/x-python",
   "name": "python",
   "nbconvert_exporter": "python",
   "pygments_lexer": "ipython3",
   "version": "3.7.6"
  }
 },
 "nbformat": 4,
 "nbformat_minor": 5
}
